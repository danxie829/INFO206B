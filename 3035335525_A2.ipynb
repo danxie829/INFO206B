{
 "cells": [
  {
   "cell_type": "code",
   "execution_count": 1,
   "metadata": {},
   "outputs": [],
   "source": [
    "def binary_search(the_list,key,left,right):\n",
    "    if left==None and right==None: #search the whole list by default\n",
    "        left=0\n",
    "        right=len(the_list)\n",
    "    if the_list[left:right+1]==[]: #return none if the list is empty\n",
    "        return None\n",
    "    else:\n",
    "        midpoint=(left+right)//2 #set the midpoint\n",
    "        if key==the_list[midpoint]: #return the index of midpoint if key equals the value of midpoint\n",
    "            return midpoint\n",
    "        elif key<the_list[midpoint] and key in the_list: #search in the left sublist\n",
    "            return binary_search(the_list,key,left,midpoint-1)\n",
    "        elif key>the_list[midpoint] and key in the_list: #search in the right sublist\n",
    "            return binary_search(the_list,key,midpoint+1,right)"
   ]
  },
  {
   "cell_type": "code",
   "execution_count": 2,
   "metadata": {},
   "outputs": [
    {
     "name": "stdout",
     "output_type": "stream",
     "text": [
      "Enter the number N of elements in a list: 10\n"
     ]
    }
   ],
   "source": [
    "N=input(\"Enter the number N of elements in a list: \")"
   ]
  },
  {
   "cell_type": "code",
   "execution_count": 3,
   "metadata": {},
   "outputs": [
    {
     "name": "stdout",
     "output_type": "stream",
     "text": [
      "[160, 227, 310, 393, 406, 525, 571, 599, 669, 965]\n"
     ]
    }
   ],
   "source": [
    "import random\n",
    "make_a_list=[] #make a list with N random integers\n",
    "for i in range (0,int(N)):\n",
    "    element=random.randint(0,1000)\n",
    "    make_a_list.append(element)\n",
    "    \n",
    "make_a_list.sort() #sort the list\n",
    "print(make_a_list)"
   ]
  },
  {
   "cell_type": "code",
   "execution_count": 4,
   "metadata": {},
   "outputs": [
    {
     "name": "stdout",
     "output_type": "stream",
     "text": [
      "Enter the number you want to search: ?\n",
      "[160, 227, 310, 393, 406, 525, 571, 599, 669, 965]\n",
      "Enter the number you want to search: 310\n",
      "2\n",
      "Enter the number you want to search: 406\n",
      "4\n",
      "Enter the number you want to search: 666\n",
      "None\n",
      "Enter the number you want to search: q\n"
     ]
    }
   ],
   "source": [
    "while True:\n",
    "    answer=input(\"Enter the number you want to search: \")\n",
    "    if answer==\"?\": #print the list if the user enter ?\n",
    "        print(make_a_list)\n",
    "    elif answer==\"q\":  #quit the program if the user enter q\n",
    "        break\n",
    "    else:\n",
    "        print(binary_search(make_a_list,int(answer),left=None,right=None)) #search the input in the sorted list"
   ]
  },
  {
   "cell_type": "code",
   "execution_count": null,
   "metadata": {},
   "outputs": [],
   "source": []
  }
 ],
 "metadata": {
  "kernelspec": {
   "display_name": "Python 3",
   "language": "python",
   "name": "python3"
  },
  "language_info": {
   "codemirror_mode": {
    "name": "ipython",
    "version": 3
   },
   "file_extension": ".py",
   "mimetype": "text/x-python",
   "name": "python",
   "nbconvert_exporter": "python",
   "pygments_lexer": "ipython3",
   "version": "3.7.4"
  }
 },
 "nbformat": 4,
 "nbformat_minor": 2
}
