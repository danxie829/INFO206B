{
 "cells": [
  {
   "cell_type": "code",
   "execution_count": 22,
   "metadata": {},
   "outputs": [],
   "source": [
    "class Soldier:\n",
    "    def __init__(self,order):\n",
    "        self.order=order\n",
    "        self.next=None\n",
    "        self.prev=None\n",
    "\n",
    "    def kill(self,prefix,suffix):\n",
    "        self.prev.next=self.next\n",
    "        self.next.prev=self.prev\n",
    "        print (prefix + \" \" + str(self.order) + \" \" + suffix)\n",
    "\n",
    "\n",
    "class Army:\n",
    "    def __init__(self,n):\n",
    "        self.head = Soldier(1)                       # create a DLL with only one node\n",
    "        self.head.prev =self.head\n",
    "        self.head.next = self.head\n",
    "        for i in range(2,n+1):                      # append rest nodes to the DLL \n",
    "            self.append(i)\n",
    "        \n",
    "        self.survivor = n                           # all the soldiers are alive at the beginning\n",
    "        self.victim = self.head.prev                # start counting from the first soldier\n",
    "        \n",
    "    def advance(self, k):\n",
    "        for i in range(0,k):                        #move to the next k soldier\n",
    "            self.victim = self.victim.next\n",
    "        return self.victim   \n",
    "        \n",
    "    def Kill_all(self, k):\n",
    "        victim_soldier = self.head.prev            #kill the soldiers with k spacing until there's only one left \n",
    "        while self.survivor > 1:\n",
    "            victim_soldier = self.advance(k)\n",
    "            victim_soldier.kill(\"Soldier\", \"is killed\")\n",
    "            self.survivor = self.survivor-1       #survivor reduce one every time you kill a soldier\n",
    "            \n",
    "        victim_soldier = self.advance(k)          #move to the last sooldier\n",
    "        victim_soldier.kill(\"The last remaining soldier is\", \"\")\n",
    "        \n",
    "    def insert_soldier(self, x, n):\n",
    "        y = Soldier(n)                            # create a new Soldier \n",
    "        z = x.next                               \n",
    "        y.prev = x                                # insert y between x and z\n",
    "        y.next = z\n",
    "        x.next = y\n",
    "        z.prev = y\n",
    "        \n",
    "    def append(self, n):                         #append the n node to DLL\n",
    "        last_soldier = self.head.prev\n",
    "        self.insert_soldier(last_soldier, n)"
   ]
  },
  {
   "cell_type": "code",
   "execution_count": 25,
   "metadata": {},
   "outputs": [
    {
     "name": "stdout",
     "output_type": "stream",
     "text": [
      "Enter number of n soldiers, at least 2: 5\n",
      "Enter spacing between victims, between 1 and n: 2\n"
     ]
    }
   ],
   "source": [
    "n=input(\"Enter number of n soldiers, at least 2: \")\n",
    "n=int(n)\n",
    "k=input(\"Enter spacing between victims, between 1 and n: \")\n",
    "k=int(k)"
   ]
  },
  {
   "cell_type": "code",
   "execution_count": 26,
   "metadata": {},
   "outputs": [
    {
     "name": "stdout",
     "output_type": "stream",
     "text": [
      "Soldier 2 is killed\n",
      "Soldier 4 is killed\n",
      "Soldier 1 is killed\n",
      "Soldier 5 is killed\n",
      "The last remaining soldier is 3 \n"
     ]
    }
   ],
   "source": [
    "def death_game(n,k):\n",
    "    DLL = Army(n)\n",
    "    DLL.Kill_all(k)\n",
    "\n",
    "death_game(n,k)"
   ]
  },
  {
   "cell_type": "code",
   "execution_count": null,
   "metadata": {},
   "outputs": [],
   "source": []
  }
 ],
 "metadata": {
  "kernelspec": {
   "display_name": "Python 3",
   "language": "python",
   "name": "python3"
  },
  "language_info": {
   "codemirror_mode": {
    "name": "ipython",
    "version": 3
   },
   "file_extension": ".py",
   "mimetype": "text/x-python",
   "name": "python",
   "nbconvert_exporter": "python",
   "pygments_lexer": "ipython3",
   "version": "3.7.4"
  }
 },
 "nbformat": 4,
 "nbformat_minor": 2
}
