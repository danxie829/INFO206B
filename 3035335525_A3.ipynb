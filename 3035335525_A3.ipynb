{
 "cells": [
  {
   "cell_type": "code",
   "execution_count": 7,
   "metadata": {},
   "outputs": [],
   "source": [
    "import random\n",
    "def bubble_sort(s):\n",
    "    b=s[:] #create a copy of the original list\n",
    "    i=0 #swap s[i] and s[i+1] if s[i] > s[i+1] \n",
    "    while i < (len(s)-1):\n",
    "        if s[i]>s[i+1]:\n",
    "            temp=s[i]\n",
    "            s[i]=s[i+1]\n",
    "            s[i+1]=temp\n",
    "        i=i+1\n",
    "    if b==s: #check if the list is swapped\n",
    "        return s #return the original list if we didn't swap\n",
    "    else:\n",
    "        return bubble_sort(s) #swap again is we swapped the list in this round"
   ]
  },
  {
   "cell_type": "code",
   "execution_count": 8,
   "metadata": {},
   "outputs": [
    {
     "data": {
      "text/plain": [
       "[322, 356, 219, 448, 205, 158, 578, 337, 618, 688]"
      ]
     },
     "execution_count": 8,
     "metadata": {},
     "output_type": "execute_result"
    }
   ],
   "source": [
    "a=[] #create a randomly generated list and print it\n",
    "for i in range (0,10):\n",
    "    a.append(random.randint(0,1001))\n",
    "a"
   ]
  },
  {
   "cell_type": "code",
   "execution_count": 9,
   "metadata": {},
   "outputs": [
    {
     "data": {
      "text/plain": [
       "[158, 205, 219, 322, 337, 356, 448, 578, 618, 688]"
      ]
     },
     "execution_count": 9,
     "metadata": {},
     "output_type": "execute_result"
    }
   ],
   "source": [
    "bubble_sort(a) #return the swapped list"
   ]
  },
  {
   "cell_type": "code",
   "execution_count": null,
   "metadata": {},
   "outputs": [],
   "source": [
    "#the run-time should be O(n) since we will compare the value of each element and its next element at least one time"
   ]
  }
 ],
 "metadata": {
  "kernelspec": {
   "display_name": "Python 3",
   "language": "python",
   "name": "python3"
  },
  "language_info": {
   "codemirror_mode": {
    "name": "ipython",
    "version": 3
   },
   "file_extension": ".py",
   "mimetype": "text/x-python",
   "name": "python",
   "nbconvert_exporter": "python",
   "pygments_lexer": "ipython3",
   "version": "3.7.4"
  }
 },
 "nbformat": 4,
 "nbformat_minor": 2
}
