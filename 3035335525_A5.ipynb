{
 "cells": [
  {
   "cell_type": "code",
   "execution_count": 1,
   "metadata": {},
   "outputs": [],
   "source": [
    "# convert a word to lower-case and remove all punctuation\n",
    "def strip_word( w ):\n",
    "    w = w.lower()\n",
    "    w = ''.join([i for i in w if i.isalpha()])\n",
    "    return( w )\n",
    "\n",
    "# sort dictionary from most to least frequent entry count\n",
    "def sort_dictionary( D ):\n",
    "    Ds = sorted(D.items(), key=lambda x:x[1], reverse=True)               \n",
    "    return Ds"
   ]
  },
  {
   "cell_type": "code",
   "execution_count": 2,
   "metadata": {},
   "outputs": [],
   "source": [
    "import os\n",
    "directory=r'/Users/xiedan/Documents/Berkeley/2020Fall/INFO206/B/assignment5/data'#set the directory\n",
    "\n",
    "def build_dictionary(prefix):\n",
    "    my_dictionary = {} #create the dictionary\n",
    "    N=0 #count word starting at 0\n",
    "    for file in os.listdir(directory):\n",
    "        if file.startswith(prefix) and file.endswith(\".txt\"): #open the right file\n",
    "            myfile = open(file, \"r\",encoding=\"ISO-8859-1\")\n",
    "            for line in myfile:\n",
    "                line=line.split() #split the line\n",
    "                N=N+len(line) #increase the number of total words by number of words in this line\n",
    "                for word in line:\n",
    "                    word=strip_word(word) #strip each word\n",
    "                    if len(word)!=0:\n",
    "                        if word in my_dictionary: \n",
    "                            my_dictionary[word] +=1 #increase the count for this word if it is in the dictionary\n",
    "                        else:\n",
    "                            my_dictionary[word] = 1 #set the count for this word to 1 if it hasn't shown before\n",
    "                        \n",
    "    for key in my_dictionary: #change count to percentage\n",
    "        my_dictionary[key]=my_dictionary[key]/N*100\n",
    "    \n",
    "    myfile.close()\n",
    "    return my_dictionary\n",
    "\n",
    "def print_dictionary(Dic): #print the dictionary\n",
    "    for key in Dic:\n",
    "        print(key,Dic[key])"
   ]
  },
  {
   "cell_type": "code",
   "execution_count": 3,
   "metadata": {},
   "outputs": [
    {
     "data": {
      "text/plain": [
       "['the',\n",
       " 'to',\n",
       " 'of',\n",
       " 'and',\n",
       " 'a',\n",
       " 'in',\n",
       " 'that',\n",
       " 'is',\n",
       " 'for',\n",
       " 'on',\n",
       " 'it',\n",
       " 'as',\n",
       " 'was',\n",
       " 'but',\n",
       " 'i',\n",
       " 'with',\n",
       " 'at',\n",
       " 'this',\n",
       " 'be',\n",
       " 'not',\n",
       " 'has',\n",
       " 'have',\n",
       " 'are',\n",
       " 'my',\n",
       " 'an']"
      ]
     },
     "execution_count": 3,
     "metadata": {},
     "output_type": "execute_result"
    }
   ],
   "source": [
    "all_items=sort_dictionary(build_dictionary(\"\")) \n",
    "first_25=all_items[0:25] #extract the top 25 most frequent words\n",
    "first_25_word=[]\n",
    "for key in first_25:\n",
    "    percent=key[0]\n",
    "    first_25_word.append(percent)\n",
    "first_25_word"
   ]
  },
  {
   "cell_type": "code",
   "execution_count": 4,
   "metadata": {},
   "outputs": [],
   "source": [
    "# create a list of files in pk and dr group\n",
    "pk = [\"pk1.txt\",\"pk2.txt\",\"pk3.txt\",\"pk4.txt\",\"pk5.txt\",\"pk6.txt\",\"pk7.txt\",\"pk8.txt\",\"pk9.txt\"]\n",
    "dr = [\"dr1.txt\",\"dr2.txt\",\"dr3.txt\",\"dr4.txt\",\"dr5.txt\",\"dr6.txt\",\"dr7.txt\",\"dr8.txt\",\"dr9.txt\"]"
   ]
  },
  {
   "cell_type": "code",
   "execution_count": 15,
   "metadata": {},
   "outputs": [],
   "source": [
    " # build a 2-D numpy matrix F1 of size 9 x 25 for pk\n",
    "    \n",
    "F1=[]\n",
    "for a in pk:\n",
    "    pkdic=build_dictionary(a)          \n",
    "    for i in first_25_word:\n",
    "        if i not in pkdic:\n",
    "            pkdic[i]=0       # set the frequency count to 0 if the word is not present in a document's dictionary\n",
    "    pklist=[]\n",
    "    for i in first_25_word:\n",
    "        if i in pkdic:\n",
    "            pklist.append(pkdic[i])     # extract the frequency count of other most frequent words \n",
    "\n",
    "    F1.append(pklist)"
   ]
  },
  {
   "cell_type": "code",
   "execution_count": 16,
   "metadata": {},
   "outputs": [],
   "source": [
    " # build a 2-D numpy matrix F1 of size 9 x 25 for dr\n",
    "F2=[]\n",
    "drlist=[]\n",
    "for b in dr:\n",
    "    drdic=build_dictionary(b)          \n",
    "    for i in first_25_word:\n",
    "        if i not in drdic:\n",
    "            drdic[i]=0       # set the frequency count to 0 if the word is not present in a document's dictionary     \n",
    "    drlist=[]    \n",
    "    for i in first_25_word:\n",
    "        if i in drdic:\n",
    "            drlist.append(drdic[i])     # extract the frequency count of other most frequent words \n",
    "\n",
    "    F2.append(drlist)"
   ]
  },
  {
   "cell_type": "code",
   "execution_count": 17,
   "metadata": {},
   "outputs": [
    {
     "data": {
      "text/plain": [
       "<matplotlib.collections.PathCollection at 0x7fa677ea3410>"
      ]
     },
     "execution_count": 17,
     "metadata": {},
     "output_type": "execute_result"
    },
    {
     "data": {
      "image/png": "[encoded data removed]",
      "text/plain": [
       "<Figure size 432x288 with 1 Axes>"
      ]
     },
     "metadata": {
      "needs_background": "light"
     },
     "output_type": "display_data"
    }
   ],
   "source": [
    "# Dimensionality reduction and visualization\n",
    "import numpy as np\n",
    "import matplotlib.pyplot as plt\n",
    "from sklearn.decomposition import PCA\n",
    "\n",
    "F   = np.concatenate((F1,F2),axis=0)\n",
    "pca = PCA(n_components=2)\n",
    "Fp  = pca.fit(F).transform(F)\n",
    "plt.scatter( Fp[0:9,0], Fp[0:9,1], color='b')\n",
    "plt.scatter( Fp[9:18,0], Fp[9:18,1], color='r' )"
   ]
  },
  {
   "cell_type": "code",
   "execution_count": null,
   "metadata": {},
   "outputs": [],
   "source": []
  }
 ],
 "metadata": {
  "kernelspec": {
   "display_name": "Python 3",
   "language": "python",
   "name": "python3"
  },
  "language_info": {
   "codemirror_mode": {
    "name": "ipython",
    "version": 3
   },
   "file_extension": ".py",
   "mimetype": "text/x-python",
   "name": "python",
   "nbconvert_exporter": "python",
   "pygments_lexer": "ipython3",
   "version": "3.7.4"
  }
 },
 "nbformat": 4,
 "nbformat_minor": 2
}
